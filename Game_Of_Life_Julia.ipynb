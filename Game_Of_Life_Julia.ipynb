{
  "nbformat": 4,
  "nbformat_minor": 0,
  "metadata": {
    "colab": {
      "provenance": [],
      "authorship_tag": "ABX9TyOvbxFOJ1UalxxxO1cEGD/F",
      "include_colab_link": true
    },
    "kernelspec": {
      "name": "python3",
      "display_name": "Python 3"
    },
    "language_info": {
      "name": "python"
    }
  },
  "cells": [
    {
      "cell_type": "markdown",
      "metadata": {
        "id": "view-in-github",
        "colab_type": "text"
      },
      "source": [
        "<a href=\"https://colab.research.google.com/github/NgoHoangNhatMinh/SUTD-Hackathon/blob/main/Game_Of_Life_Julia.ipynb\" target=\"_parent\"><img src=\"https://colab.research.google.com/assets/colab-badge.svg\" alt=\"Open In Colab\"/></a>"
      ]
    },
    {
      "cell_type": "code",
      "execution_count": 5,
      "metadata": {
        "colab": {
          "base_uri": "https://localhost:8080/"
        },
        "id": "5j0BtdA2W5Q2",
        "outputId": "a420d486-3789-45af-d929-a5f95100bf5c"
      },
      "outputs": [
        {
          "output_type": "execute_result",
          "data": {
            "text/plain": []
          },
          "metadata": {},
          "execution_count": 5
        }
      ],
      "source": [
        "%%shell\n",
        "set -e\n",
        "\n",
        "#---------------------------------------------------#\n",
        "JULIA_VERSION=\"1.8.2\" # any version ≥ 0.7.0\n",
        "JULIA_PACKAGES=\"IJulia BenchmarkTools\"\n",
        "JULIA_PACKAGES_IF_GPU=\"CUDA\" # or CuArrays for older Julia versions\n",
        "JULIA_NUM_THREADS=2\n",
        "#---------------------------------------------------#\n",
        "\n",
        "if [ -z `which julia` ]; then\n",
        "  # Install Julia\n",
        "  JULIA_VER=`cut -d '.' -f -2 <<< \"$JULIA_VERSION\"`\n",
        "  echo \"Installing Julia $JULIA_VERSION on the current Colab Runtime...\"\n",
        "  BASE_URL=\"https://julialang-s3.julialang.org/bin/linux/x64\"\n",
        "  URL=\"$BASE_URL/$JULIA_VER/julia-$JULIA_VERSION-linux-x86_64.tar.gz\"\n",
        "  wget -nv $URL -O /tmp/julia.tar.gz # -nv means \"not verbose\"\n",
        "  tar -x -f /tmp/julia.tar.gz -C /usr/local --strip-components 1\n",
        "  rm /tmp/julia.tar.gz\n",
        "\n",
        "  # Install Packages\n",
        "  nvidia-smi -L &> /dev/null && export GPU=1 || export GPU=0\n",
        "  if [ $GPU -eq 1 ]; then\n",
        "    JULIA_PACKAGES=\"$JULIA_PACKAGES $JULIA_PACKAGES_IF_GPU\"\n",
        "  fi\n",
        "  for PKG in `echo $JULIA_PACKAGES`; do\n",
        "    echo \"Installing Julia package $PKG...\"\n",
        "    julia -e 'using Pkg; pkg\"add '$PKG'; precompile;\"' &> /dev/null\n",
        "  done\n",
        "\n",
        "  # Install kernel and rename it to \"julia\"\n",
        "  echo \"Installing IJulia kernel...\"\n",
        "  julia -e 'using IJulia; IJulia.installkernel(\"julia\", env=Dict(\n",
        "      \"JULIA_NUM_THREADS\"=>\"'\"$JULIA_NUM_THREADS\"'\"))'\n",
        "  KERNEL_DIR=`julia -e \"using IJulia; print(IJulia.kerneldir())\"`\n",
        "  KERNEL_NAME=`ls -d \"$KERNEL_DIR\"/julia*`\n",
        "  mv -f $KERNEL_NAME \"$KERNEL_DIR\"/julia\n",
        "\n",
        "  echo ''\n",
        "  echo \"Successfully installed `julia -v`!\"\n",
        "  echo \"Please reload this page (press Ctrl+R, ⌘+R, or the F5 key) then\"\n",
        "  echo \"jump to the 'Checking the Installation' section.\"\n",
        "fi"
      ]
    },
    {
      "cell_type": "code",
      "source": [
        "versioninfo()"
      ],
      "metadata": {
        "id": "VNprjFm8XuSi"
      },
      "execution_count": null,
      "outputs": []
    },
    {
      "cell_type": "code",
      "source": [
        "using BenchmarkTools\n",
        "\n",
        "M = rand(2^11, 2^11)\n",
        "\n",
        "@btime $M * $M;"
      ],
      "metadata": {
        "id": "HBQlGuYiXvcD"
      },
      "execution_count": null,
      "outputs": []
    },
    {
      "cell_type": "code",
      "source": [
        "try\n",
        "    using CUDA\n",
        "catch\n",
        "    println(\"No GPU found.\")\n",
        "else\n",
        "    run(`nvidia-smi`)\n",
        "    # Create a new random matrix directly on the GPU:\n",
        "    M_on_gpu = CUDA.CURAND.rand(2^11, 2^11)\n",
        "    @btime $M_on_gpu * $M_on_gpu; nothing\n",
        "end"
      ],
      "metadata": {
        "id": "hHPq1hf5Xzrp"
      },
      "execution_count": null,
      "outputs": []
    },
    {
      "cell_type": "code",
      "source": [
        "function ca_evolve(init_vec, nt, rule)\n",
        "    nl = size(init_vec,1);\n",
        "    system = zeros(Int, nl, nt);\n",
        "    system[:, 1] = init_vec;\n",
        "    #evolution\n",
        "    for it = 2:nt\n",
        "        for il = 2:nl-1\n",
        "            system[il,it] = rule_function(system[il-1:il+1,it-1], rule);\n",
        "        end\n",
        "        #boundary conditions\n",
        "        system[1, it] = rule_function([system[nl, it-1], system[1, it-1], system[2, it-1]],rule);\n",
        "        system[nl, it] = rule_function([system[nl-1, it-1], system[nl, it-1], system[1, it-1]],rule);\n",
        "    end\n",
        "    return system\n",
        "end\n",
        "\n",
        "function rule_function(vec, rule)\n",
        "    if rule == 30\n",
        "        if vec == [0, 0, 0]\n",
        "            return 0\n",
        "        elseif vec == [0, 0, 1]\n",
        "            return 1\n",
        "        elseif vec == [0, 1, 0]\n",
        "            return 1\n",
        "        elseif vec == [0, 1, 1]\n",
        "            return 1\n",
        "        elseif vec == [1, 0, 0]\n",
        "            return 1\n",
        "        elseif vec == [1, 0, 1]\n",
        "            return 0\n",
        "        elseif vec == [1, 1, 0]\n",
        "            return 0\n",
        "        else\n",
        "            return 0\n",
        "        end\n",
        "    elseif rule == 18\n",
        "        if vec == [0, 0, 0]\n",
        "            return 0\n",
        "        elseif vec == [0, 0, 1]\n",
        "            return 1\n",
        "        elseif vec == [0, 1, 0]\n",
        "            return 0\n",
        "        elseif vec == [0, 1, 1]\n",
        "            return 0\n",
        "        elseif vec == [1, 0, 0]\n",
        "            return 1\n",
        "        elseif vec == [1, 0, 1]\n",
        "            return 0\n",
        "        elseif vec == [1, 1, 0]\n",
        "            return 0\n",
        "        else\n",
        "            return 0\n",
        "        end\n",
        "    else #rule 3\n",
        "        if vec == [0, 0, 0]\n",
        "            return 1\n",
        "        elseif vec == [0, 0, 1]\n",
        "            return 1\n",
        "        elseif vec == [0, 1, 0]\n",
        "            return 0\n",
        "        elseif vec == [0, 1, 1]\n",
        "            return 0\n",
        "        elseif vec == [1, 0, 0]\n",
        "            return 0\n",
        "        elseif vec == [1, 0, 1]\n",
        "            return 0\n",
        "        elseif vec == [1, 1, 0]\n",
        "            return 0\n",
        "        else\n",
        "            return 0\n",
        "        end\n",
        "    end\n",
        "end"
      ],
      "metadata": {
        "id": "ScHiQBrXXH7V"
      },
      "execution_count": null,
      "outputs": []
    },
    {
      "cell_type": "code",
      "source": [
        "L = 201; #size of system, odd\n",
        "nt = 300; #time steps\n",
        "\n",
        "init_vec = zeros(Int, L);\n",
        "init_vec[div(L+1,2)] = 1;\n",
        "\n",
        "rule = 30;\n",
        "\n",
        "system = ca_evolve(init_vec, nt, rule);\n"
      ],
      "metadata": {
        "id": "f9JqSa0uXK8c"
      },
      "execution_count": null,
      "outputs": []
    },
    {
      "cell_type": "code",
      "source": [
        "using Plots\n",
        "heatmap(system; axis = nothing, border = :none, cbar = false)"
      ],
      "metadata": {
        "id": "B94Lr9VfXLuK"
      },
      "execution_count": null,
      "outputs": []
    }
  ]
}